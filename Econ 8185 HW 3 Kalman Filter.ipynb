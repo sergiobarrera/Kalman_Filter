{
 "cells": [
  {
   "cell_type": "code",
   "execution_count": 10,
   "metadata": {
    "collapsed": false
   },
   "outputs": [
    {
     "name": "stderr",
     "output_type": "stream",
     "text": [
      "WARNING: Method definition ARMA_sim(AbstractArray{T<:Any, 1}, AbstractArray{T<:Any, 1}, Real, Int64) in module Main at In[1]:12 overwritten at In[10]:12.\n",
      "\u001b[1m\u001b[31mWARNING: replacing docs for 'ARMA_sim :: Tuple{AbstractArray{T,1},AbstractArray{T,1},Real,Int64}' in module 'Main'.\u001b[0m\n"
     ]
    },
    {
     "data": {
      "text/plain": [
       "ARMA_sim"
      ]
     },
     "execution_count": 10,
     "metadata": {},
     "output_type": "execute_result"
    }
   ],
   "source": [
    "\"\"\"\n",
    "Creating functions that simulate ARMA processes\n",
    "\n",
    "#### Arguments\n",
    "\n",
    "`Ρ` : Vector of AR coeffecients\n",
    "`Θ` : Vector of MA coeffecients\n",
    "`sigma` : Standard Deviation of ARMA error components\n",
    "`n` : Number of simulations\n",
    "\"\"\"\n",
    "function ARMA_sim(Ρ::AbstractVector, Θ::AbstractVector, sigma::Real,n::Int64)\n",
    "    N_Ρ = length(Ρ)\n",
    "    N_Θ = length(Θ)\n",
    "    m = maximum([N_Θ, N_Ρ]) + 100\n",
    "    \n",
    "    Ε = rand(Normal(0.0,  sigma), (m + n))\n",
    "    X = zeros((m + n))\n",
    "    for i in (m-97):(m+n)\n",
    "        X[i] = dot(X[(m-97 - N_Ρ):(m-98)], Ρ) + dot(Ε[(m-97 - N_Θ):(m-98)], Θ) + Ε[i]\n",
    "    end\n",
    "    X_1 = copy(X[(m + 1):(m+ n)])\n",
    "    return X_1\n",
    "end\n",
    "\n",
    "    \n",
    "\n"
   ]
  },
  {
   "cell_type": "code",
   "execution_count": 9,
   "metadata": {
    "collapsed": false
   },
   "outputs": [
    {
     "name": "stdout",
     "output_type": "stream",
     "text": [
      "in callback catch\n"
     ]
    },
    {
     "name": "stderr",
     "output_type": "stream",
     "text": [
      "WARNING: Method definition P_t_lag(Any, Any"
     ]
    },
    {
     "ename": "LoadError",
     "evalue": "DomainError:",
     "output_type": "error",
     "traceback": [
      "DomainError:",
      ""
     ]
    },
    {
     "name": "stderr",
     "output_type": "stream",
     "text": [
      ", Any) in module Main at In[8]:28 overwritten at In[9]:28.\n",
      "WARNING: Method definition F_t(Any, Any, Any, Any, Any) in module Main at In[8]:29 overwritten at In[9]:29.\n",
      "WARNING: Method definition α_t_lag(Any, Any) in module Main at In[8]:30 overwritten at In[9]:30.\n",
      "WARNING: Method definition v_t(Any, Any, Any, Any) in module Main at In[8]:31 overwritten at In[9]:31.\n",
      "WARNING: Method definition α_t(Any, Any, Any, Any, Any, Any, Any) in module Main at In[8]:32 overwritten at In[9]:32.\n",
      "WARNING: Method definition P_t(Any, Any, Any, Any, Any) in module Main at In[8]:33 overwritten at In[9]:33.\n",
      "WARNING: Method definition l(Any, Any, Any, Any, Any, Any, Any, Any) in module Main at In[8]:35 overwritten at In[9]:35.\n",
      "WARNING: Method definition L_lik(Any, Any, Any, Any, Any, Any, Any, Any) in module Main at In[8]:40 overwritten at In[9]:40.\n",
      "WARNING: Method definition L_obj(Array{T<:Any, 1}, Array{T<:Any, 1}) in module Main at In[8]:59 overwritten at In[9]:59.\n"
     ]
    }
   ],
   "source": [
    "using Distributions\n",
    "using QuantEcon\n",
    "using NLopt\n",
    "#inputting parameter values for estimation \n",
    "ρ = 0.5\n",
    "σ = 1.0\n",
    "n = 500\n",
    "lp = ARMA(ρ, 0, σ)\n",
    "\n",
    "#Generating AR(1) process\n",
    "X = ARMA_sim([0.5], [0.0], σ,n)\n",
    "\n",
    "#Generating initial Guesses\n",
    "α_0 = 1.0\n",
    "P_0 = 2.0\n",
    "\n",
    "#Inputting Harvey's coefficients for known values\n",
    "Z = 1\n",
    "H = 0\n",
    "\n",
    "#creating empty grids for our estimation of the AR(1) process\n",
    "\n",
    "P= zeros(n)\n",
    "Pt_t_1 = zeros(n)\n",
    "F = zeros(n)\n",
    "v = zeros(n)\n",
    "\n",
    "P_t_lag(T,p,q) = T*p*T' + q\n",
    "F_t(z,t,p,q,h) = z*P_t_lag(t,p,q)*z' + h\n",
    "α_t_lag(t,α) = t*α\n",
    "v_t(x,z,t,α) = x - z*α_t_lag(t,α)\n",
    "α_t( t, p, q, h, z, x, α) = α_t_lag(t,α) + P_t_lag(t,p,q)*z*((F_t(z,t,p,q,h))^(-1))*(v_t(x,z,t,α))\n",
    "P_t(t,p,q, h, z) = P_t_lag(t,p,q) - P_t_lag(t,p,q)*z*((F_t(z,t,p,q,h))^(-1))*z*P_t_lag(t,p,q)\n",
    "\n",
    "l(N,T, Ρ, Q, x, α, z,h) = -(N/2)*log(2*pi) - 0.5*log(abs(F_t(z,T,P,Q,h))) -0.5*(v_t(x, Z, T, α))'*((F_t(z,T,P,Q,h))^(-1))*(v_t(x, Z, T, α)) \n",
    "\n",
    "function L_lik(N,T, Ρ_init, Q, x, α_init, z,h)\n",
    "\n",
    "    #array for unconditional P\n",
    "    P = zeros(N)\n",
    "    #array for unconditional α\n",
    "    Α = zeros(N)\n",
    "\n",
    "    \n",
    "    L_sum = l(N, T, Ρ_init, Q, x[1], α_init, z,h)\n",
    "    P[1] = P_t_lag(T,Ρ_init, Q)\n",
    "    Α[1] = α_t(T,Ρ_init, Q, h, z, x, α_init)\n",
    "\n",
    "    for k in 2:N\n",
    "        L_sum += l(N, T,P[k-1], Q,x[k], Α[k-1], z, h)\n",
    "        P[k] = P[1] = P_t_lag(T,P[k-1], Q)\n",
    "        Α[k] = α_t(T,P[k-1], Q, h, z, x, Α[k-1] )\n",
    "    end\n",
    "    L_sum\n",
    "end\n",
    "    \n",
    "\n",
    "function L_obj(x::Vector, grad::Vector)\n",
    "    if length(grad) > 0\n",
    "        grad[1] = 0\n",
    "        grad[2] = 0\n",
    "    end\n",
    "    L_lik(n,x[1], P_0, x[2], X, α_0, Z,H)\n",
    "end\n",
    "opt1 = Opt(:LN_NELDERMEAD, 2)\n",
    "lower_bounds!(opt1, [0.000000001,0.0])\n",
    "max_objective!(opt1, L_obj)\n",
    "(maxl,maxx, ret) = optimize(opt1, [1.0,1.0])\n",
    "T = maxx[1]\n",
    "Q = maxx[2]\n",
    "\n",
    "\n",
    "\n",
    "\n",
    "\n"
   ]
  },
  {
   "cell_type": "code",
   "execution_count": 13,
   "metadata": {
    "collapsed": false
   },
   "outputs": [
    {
     "name": "stderr",
     "output_type": "stream",
     "text": [
      "\u001b[1m\u001b[34mINFO: Recompiling stale cache file C:\\Users\\Sergio\\.julia\\lib\\v0.5\\PyPlot.ji for module PyPlot.\n",
      "\u001b[0m"
     ]
    },
    {
     "data": {
      "image/png": "[encoded data removed]",
      "text/plain": [
       "PyPlot.Figure(PyObject <matplotlib.figure.Figure object at 0x000000002C927208>)"
      ]
     },
     "metadata": {},
     "output_type": "display_data"
    },
    {
     "data": {
      "text/plain": [
       "1-element Array{Any,1}:\n",
       " PyObject <matplotlib.lines.Line2D object at 0x000000002CF6C4E0>"
      ]
     },
     "execution_count": 13,
     "metadata": {},
     "output_type": "execute_result"
    }
   ],
   "source": [
    "using PyPlot\n",
    "plot(linspace(0,n,n), X)"
   ]
  },
  {
   "cell_type": "code",
   "execution_count": null,
   "metadata": {
    "collapsed": false
   },
   "outputs": [],
   "source": [
    "#try rerunning again\n",
    "\n",
    "#Using QuantEcon's ARMA distribution simulator to test algorithom\n",
    "\n",
    "using Distributions\n",
    "using QuantEcon\n",
    "#inputting parameter values for estimation \n",
    "ρ = 0.5\n",
    "σ = 1\n",
    "n = 500\n",
    "lp = ARMA(ρ, 0, σ)\n",
    "\n",
    "#Generating AR(1) process\n",
    "X = ARMA_sim([0.5], [0.0], σ,n)\n",
    "\n",
    "#Generating initial Guesses\n",
    "α_0 = 1.0\n",
    "P_0 = 2.0\n",
    "\n",
    "#Inputting Harvey's coefficients for known values\n",
    "Z = 1\n",
    "H = 0\n",
    "\n",
    "#creating empty grids for our estimation of the AR(1) process\n",
    "Α = zeros(n)\n",
    "Αt_t_1 = zeros(n)\n",
    "\n",
    "P= zeros(n)\n",
    "Pt_t_1 = zeros(n)\n",
    "F = zeros(n)\n",
    "v = zeros(n)\n",
    "\n",
    "\n",
    "p(t,p0,q) = t*p0*t' + q\n",
    "\n",
    "#creating log likelihood\n",
    "\n",
    "l(N,T, Ρ, Q, x, α) = -(N/2)*log(2*pi) - 0.5*log(abs(Z*p(T,Ρ,Q)*Z' + H)) -0.5*(x - Z*T*α)'*inv(Z*p(T,Ρ,Q)*Z' + H)*(x - Z*T*α) \n",
    "T_grid = linspace(0,1,100)\n",
    "Q_grid = linspace(0,5,100)\n",
    "L = zeros(100,100)\n",
    "L_dic = Dict()\n",
    "\n",
    "#performing MLE for t = 1\n",
    "function L_obj(x::Vector, grad::Vector)\n",
    "    if length(grad) > 0\n",
    "        grad[1] = 0\n",
    "        grad[2] = 0\n",
    "    end\n",
    "    l(1, x[1], P_0, x[2], X, α_0)\n",
    "end\n",
    "\n",
    "opt1 = Opt(:LN_NELDERMEAD, 2)\n",
    "lower_bounds!(opt1, [0.0,0.0])\n",
    "max_objective!(opt1, L_obj)\n",
    "(maxl,maxx, ret) = optimize(opt1, [1.0,1.0])\n",
    "\n",
    "T = maxx[1]\n",
    "Q = maxx[2]\n",
    "\n",
    "##Note to self, need to perform MLE for estimates of T and Q, probably use NLopt package"
   ]
  },
  {
   "cell_type": "code",
   "execution_count": null,
   "metadata": {
    "collapsed": false
   },
   "outputs": [],
   "source": [
    "#creating first element\n",
    "Αt_t_1[1] = T*α_0\n",
    "Pt_t_1[1] = T*P_0*T' + Q\n",
    "\n",
    "v[1] = X[1] - Z*Αt_t_1[1]\n",
    "F[1] = Z*Pt_t_1[1]*Z + H\n",
    "\n",
    "Α[1] = Αt_t_1[1] + Pt_t_1[1]*Z'*inv(Z*Pt_t_1[1]*Z' + H)*(X[1] - Z*Αt_t_1[1])\n",
    "\n",
    "P[1] = Pt_t_1[1] - Pt_t_1[1]*Z'*inv(Z*Pt_t_1[1]*Z' + H)*Z*Pt_t_1[1]\n",
    "\n",
    "\n",
    "\n",
    "for k in 2:n\n",
    "    L = zeros(100,100)\n",
    "    L_dic = Dict()\n",
    "    function L_obj(x::Vector, grad::Vector)\n",
    "        if length(grad) > 0\n",
    "            grad[1] = 0\n",
    "            grad[2] = 0\n",
    "        end\n",
    "        L_sum = l(k, x[1], P_0, x[2], X[1], α_0)\n",
    "        for h in 2:k\n",
    "            L_sum += l(k, x[1], Pt_t_1[h-1], x[2], X[h], Α[h-1])\n",
    "        end\n",
    "        L_sum\n",
    "    end\n",
    "    opt1 = Opt(:LN_NELDERMEAD, 2)\n",
    "    lower_bounds!(opt1, [0.000000001,0.0])\n",
    "    max_objective!(opt1, L_obj)\n",
    "    (maxl,maxx, ret) = optimize(opt1, [1.0,1.0])\n",
    "    T = maxx[1]\n",
    "    Q = maxx[2]\n",
    "    \n",
    "    Αt_t_1[k] = T*Α[k-1]\n",
    "    Pt_t_1[k] = T*P[k-1]*T' + Q\n",
    "\n",
    "    v[k] = X[k] - Z*Αt_t_1[k]\n",
    "    F[k] = Z*Pt_t_1[k]*Z + H\n",
    "\n",
    "    Α[k] = Αt_t_1[k] + Pt_t_1[k]*Z'*inv(Z*Pt_t_1[k]*Z' + H)*(X[k] - Z*Αt_t_1[k])\n",
    "\n",
    "    P[k] = Pt_t_1[k] - Pt_t_1[k]*Z'*inv(Z*Pt_t_1[k]*Z' + H)*Z*Pt_t_1[k]\n",
    "end\n",
    "\n",
    "        \n",
    "\n",
    "\n"
   ]
  },
  {
   "cell_type": "code",
   "execution_count": null,
   "metadata": {
    "collapsed": false
   },
   "outputs": [],
   "source": [
    "T"
   ]
  },
  {
   "cell_type": "code",
   "execution_count": null,
   "metadata": {
    "collapsed": false
   },
   "outputs": [],
   "source": [
    "using PyPlot\n",
    "\n",
    "plot(linspace(1,100,100), Y)\n",
    "plot(linspace(1,100,100), Α)"
   ]
  },
  {
   "cell_type": "code",
   "execution_count": null,
   "metadata": {
    "collapsed": false
   },
   "outputs": [],
   "source": [
    "plot(linspace(1,100,100), XY)"
   ]
  },
  {
   "cell_type": "code",
   "execution_count": null,
   "metadata": {
    "collapsed": false
   },
   "outputs": [],
   "source": [
    "\n",
    "XY = ARMA_sim([0.5], [0.0], σ,n)"
   ]
  },
  {
   "cell_type": "code",
   "execution_count": null,
   "metadata": {
    "collapsed": false
   },
   "outputs": [],
   "source": [
    "inv(1)"
   ]
  },
  {
   "cell_type": "code",
   "execution_count": null,
   "metadata": {
    "collapsed": false
   },
   "outputs": [],
   "source": [
    "using JuMP\n",
    "\n",
    "m = Model()\n",
    "variable(m, 0 <= x  )\n",
    "variable(m, 0 <= y  )\n",
    "\n",
    "objective(m, Max, l(1.0, x, P_0, y, X[1], α_0) )\n",
    "\n",
    "\n",
    "print(m)\n",
    "\n",
    "status = solve(m)\n",
    "\n"
   ]
  },
  {
   "cell_type": "code",
   "execution_count": null,
   "metadata": {
    "collapsed": false,
    "scrolled": true
   },
   "outputs": [],
   "source": [
    "using JuMP, CoinOptServices\n",
    "m = Model(solver = OsilBonminSolver())\n",
    "\n",
    "\n",
    "@variable(m, 0 <= x <= 2 )\n",
    "@variable(m, 0 <= y <= 30 )\n",
    "\n",
    "@objective(m, Max, 5x + 3*y )\n",
    "@constraint(m, 1x + 5y <= 3.0 )\n",
    "\n",
    "print(m)\n",
    "\n",
    "status = solve(m)"
   ]
  },
  {
   "cell_type": "code",
   "execution_count": null,
   "metadata": {
    "collapsed": false
   },
   "outputs": [],
   "source": [
    "using NLopt"
   ]
  },
  {
   "cell_type": "code",
   "execution_count": null,
   "metadata": {
    "collapsed": false
   },
   "outputs": [],
   "source": [
    "using NLopt \n",
    "function f( x::Vector, grad::Vector) \n",
    "    if length(grad) > 0\n",
    "        grad[1] = -5 \n",
    "        grad[2] = -3\n",
    "    end\n",
    "    -5*x[1] - 3*x[2]\n",
    "end\n",
    "opt = Opt(:LN_NELDERMEAD, 2)\n",
    "lower_bounds!(opt, [0.0,0.0])\n",
    "upper_bounds!(opt, [2.0,30.0])\n",
    "max_objective!(opt, f)\n",
    "\n",
    "(optf,optx, ret) = optimize(opt, [1.0,1.0])\n"
   ]
  },
  {
   "cell_type": "code",
   "execution_count": null,
   "metadata": {
    "collapsed": false
   },
   "outputs": [],
   "source": [
    "function L_obj(x::Vector, grad::Vector)\n",
    "    if length(grad) > 0\n",
    "        grad[1] = 0\n",
    "        grad[2] = 09\n",
    "    end\n",
    "    l(1, x[1], P_0, x[2], X[1], α_0)\n",
    "end\n",
    "\n",
    "opt1 = Opt(:LN_NELDERMEAD, 2)\n",
    "lower_bounds!(opt1, [0.0,0.0])\n",
    "max_objective!(opt1, L_obj)\n",
    "(maxl,maxx, ret) = optimize(opt1, [1.0,1.0])"
   ]
  },
  {
   "cell_type": "code",
   "execution_count": null,
   "metadata": {
    "collapsed": false
   },
   "outputs": [],
   "source": [
    "T"
   ]
  },
  {
   "cell_type": "code",
   "execution_count": null,
   "metadata": {
    "collapsed": false
   },
   "outputs": [],
   "source": [
    "Q"
   ]
  },
  {
   "cell_type": "code",
   "execution_count": null,
   "metadata": {
    "collapsed": false
   },
   "outputs": [],
   "source": [
    "[2 0; 0 2]^(-1)"
   ]
  },
  {
   "cell_type": "code",
   "execution_count": null,
   "metadata": {
    "collapsed": true
   },
   "outputs": [],
   "source": []
  }
 ],
 "metadata": {
  "kernelspec": {
   "display_name": "Julia 0.5.1",
   "language": "julia",
   "name": "julia-0.5"
  },
  "language_info": {
   "file_extension": ".jl",
   "mimetype": "application/julia",
   "name": "julia",
   "version": "0.5.1"
  }
 },
 "nbformat": 4,
 "nbformat_minor": 2
}
